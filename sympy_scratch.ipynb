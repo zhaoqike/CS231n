{
 "cells": [
  {
   "cell_type": "markdown",
   "metadata": {},
   "source": [
    "# Matrix Multiplication Back Propagation"
   ]
  },
  {
   "cell_type": "code",
   "execution_count": 1,
   "metadata": {
    "collapsed": false
   },
   "outputs": [],
   "source": [
    "from IPython.display import display\n",
    "\n",
    "from sympy.interactive import printing\n",
    "printing.init_printing(use_latex='mathjax')\n",
    "\n",
    "from __future__ import division\n",
    "import sympy as sym\n",
    "from sympy import *"
   ]
  },
  {
   "cell_type": "markdown",
   "metadata": {},
   "source": [
    "### Initializaing Symbolic Variables"
   ]
  },
  {
   "cell_type": "code",
   "execution_count": 2,
   "metadata": {
    "collapsed": true
   },
   "outputs": [],
   "source": [
    "x00 = symbols('x_00')\n",
    "x01 = symbols('x_01')\n",
    "x11 = symbols('x_11')\n",
    "x10 = symbols('x_10')\n",
    "x21 = symbols('x_21')\n",
    "x20 = symbols('x_20')\n",
    "x31 = symbols('x_31')\n",
    "x30 = symbols('x_30')\n",
    "X = Matrix([[x00,x01],[x10,x11],[x20,x21],[x30,x31]])"
   ]
  },
  {
   "cell_type": "code",
   "execution_count": 3,
   "metadata": {
    "collapsed": true
   },
   "outputs": [],
   "source": [
    "w00 = symbols('w_00')\n",
    "w10 = symbols('w_10')\n",
    "w11 = symbols('w_11')\n",
    "w01 = symbols('w_01')\n",
    "w12 = symbols('w_12')\n",
    "w02 = symbols('w_02')\n",
    "w13 = symbols('w_13')\n",
    "w03 = symbols('w_03')\n",
    "w20 = symbols('w_20')\n",
    "w21 = symbols('w_21')\n",
    "w22 = symbols('w_22')\n",
    "w23 = symbols('w_23')\n",
    "W = Matrix([[w00,w01,w02,w03],[w10,w11,w12,w13],[w20,w21,w22,w23]])"
   ]
  },
  {
   "cell_type": "code",
   "execution_count": 100,
   "metadata": {
    "collapsed": true
   },
   "outputs": [],
   "source": [
    "d00 = symbols('d_00')\n",
    "d01 = symbols('d_01')\n",
    "d11 = symbols('d_11')\n",
    "d10 = symbols('d_10')\n",
    "d21 = symbols('d_21')\n",
    "d20 = symbols('d_20')\n",
    "Dsymb = Matrix([[d00,d01],[d10,d11],[d20,d21]])"
   ]
  },
  {
   "cell_type": "code",
   "execution_count": 118,
   "metadata": {
    "collapsed": true
   },
   "outputs": [],
   "source": [
    "df00 = symbols('f_00')\n",
    "df01 = symbols('df_01')\n",
    "df11 = symbols('df_11')\n",
    "df10 = symbols('df_10')\n",
    "df21 = symbols('df_21')\n",
    "df20 = symbols('df_20')\n",
    "dD = Matrix([[df00,df01],[df10,df11],[df20,df21]])"
   ]
  },
  {
   "cell_type": "code",
   "execution_count": 119,
   "metadata": {
    "collapsed": true
   },
   "outputs": [],
   "source": [
    "D = W*X"
   ]
  },
  {
   "cell_type": "code",
   "execution_count": 120,
   "metadata": {
    "collapsed": true
   },
   "outputs": [],
   "source": [
    "nrow, ncol = X.shape\n",
    "dDdX_symb = Matrix([[Derivative(Dsymb,X[ncol*i+j]) for j in range(ncol)] for i in range(nrow)])\n",
    "dDdX = Matrix([[D.diff(X[ncol*i+j]) for j in range(ncol)] for i in range(nrow)])"
   ]
  },
  {
   "cell_type": "code",
   "execution_count": 121,
   "metadata": {
    "collapsed": false
   },
   "outputs": [],
   "source": [
    "nrow, ncol = W.shape\n",
    "dDdW_symb = Matrix([[Derivative(Dsymb,W[ncol*i+j]) for j in range(ncol)] for i in range(nrow)])\n",
    "dDdW = Matrix([[D.diff(W[ncol*i+j]) for j in range(ncol)] for i in range(nrow)])"
   ]
  },
  {
   "cell_type": "markdown",
   "metadata": {},
   "source": [
    "(pro-tip: Jupyter allows for block selects and multiple cursor instances... I didn't type these out using brute force)"
   ]
  },
  {
   "cell_type": "code",
   "execution_count": 122,
   "metadata": {
    "collapsed": false
   },
   "outputs": [
    {
     "data": {
      "text/latex": [
       "$$\\left[\\begin{matrix}x_{00} & x_{01}\\\\x_{10} & x_{11}\\\\x_{20} & x_{21}\\\\x_{30} & x_{31}\\end{matrix}\\right]$$"
      ],
      "text/plain": [
       "⎡x₀₀  x₀₁⎤\n",
       "⎢        ⎥\n",
       "⎢x₁₀  x₁₁⎥\n",
       "⎢        ⎥\n",
       "⎢x₂₀  x₂₁⎥\n",
       "⎢        ⎥\n",
       "⎣x₃₀  x₃₁⎦"
      ]
     },
     "execution_count": 122,
     "metadata": {},
     "output_type": "execute_result"
    }
   ],
   "source": [
    "X"
   ]
  },
  {
   "cell_type": "code",
   "execution_count": 123,
   "metadata": {
    "collapsed": false
   },
   "outputs": [],
   "source": [
    "D = W*X\n",
    "dW = dD*X.T\n",
    "dX = W.T*dD"
   ]
  },
  {
   "cell_type": "code",
   "execution_count": 124,
   "metadata": {
    "collapsed": false
   },
   "outputs": [
    {
     "data": {
      "text/latex": [
       "$$\\left[\\begin{matrix}df_{01} x_{01} + f_{00} x_{00} & df_{01} x_{11} + f_{00} x_{10} & df_{01} x_{21} + f_{00} x_{20} & df_{01} x_{31} + f_{00} x_{30}\\\\df_{10} x_{00} + df_{11} x_{01} & df_{10} x_{10} + df_{11} x_{11} & df_{10} x_{20} + df_{11} x_{21} & df_{10} x_{30} + df_{11} x_{31}\\\\df_{20} x_{00} + df_{21} x_{01} & df_{20} x_{10} + df_{21} x_{11} & df_{20} x_{20} + df_{21} x_{21} & df_{20} x_{30} + df_{21} x_{31}\\end{matrix}\\right]$$"
      ],
      "text/plain": [
       "⎡df₀₁⋅x₀₁ + f₀₀⋅x₀₀   df₀₁⋅x₁₁ + f₀₀⋅x₁₀   df₀₁⋅x₂₁ + f₀₀⋅x₂₀   df₀₁⋅x₃₁ + f₀₀\n",
       "⎢                                                                             \n",
       "⎢df₁₀⋅x₀₀ + df₁₁⋅x₀₁  df₁₀⋅x₁₀ + df₁₁⋅x₁₁  df₁₀⋅x₂₀ + df₁₁⋅x₂₁  df₁₀⋅x₃₀ + df₁\n",
       "⎢                                                                             \n",
       "⎣df₂₀⋅x₀₀ + df₂₁⋅x₀₁  df₂₀⋅x₁₀ + df₂₁⋅x₁₁  df₂₀⋅x₂₀ + df₂₁⋅x₂₁  df₂₀⋅x₃₀ + df₂\n",
       "\n",
       "⋅x₃₀ ⎤\n",
       "     ⎥\n",
       "₁⋅x₃₁⎥\n",
       "     ⎥\n",
       "₁⋅x₃₁⎦"
      ]
     },
     "execution_count": 124,
     "metadata": {},
     "output_type": "execute_result"
    }
   ],
   "source": [
    "dW"
   ]
  },
  {
   "cell_type": "code",
   "execution_count": 90,
   "metadata": {
    "collapsed": false
   },
   "outputs": [
    {
     "data": {
      "text/latex": [
       "$$\\left[\\begin{matrix}df_{00} w_{00} + df_{10} w_{10} + df_{20} w_{20} & df_{01} w_{00} + df_{11} w_{10} + df_{21} w_{20}\\\\df_{00} w_{01} + df_{10} w_{11} + df_{20} w_{21} & df_{01} w_{01} + df_{11} w_{11} + df_{21} w_{21}\\\\df_{00} w_{02} + df_{10} w_{12} + df_{20} w_{22} & df_{01} w_{02} + df_{11} w_{12} + df_{21} w_{22}\\\\df_{00} w_{03} + df_{10} w_{13} + df_{20} w_{23} & df_{01} w_{03} + df_{11} w_{13} + df_{21} w_{23}\\end{matrix}\\right]$$"
      ],
      "text/plain": [
       "⎡df₀₀⋅w₀₀ + df₁₀⋅w₁₀ + df₂₀⋅w₂₀  df₀₁⋅w₀₀ + df₁₁⋅w₁₀ + df₂₁⋅w₂₀⎤\n",
       "⎢                                                              ⎥\n",
       "⎢df₀₀⋅w₀₁ + df₁₀⋅w₁₁ + df₂₀⋅w₂₁  df₀₁⋅w₀₁ + df₁₁⋅w₁₁ + df₂₁⋅w₂₁⎥\n",
       "⎢                                                              ⎥\n",
       "⎢df₀₀⋅w₀₂ + df₁₀⋅w₁₂ + df₂₀⋅w₂₂  df₀₁⋅w₀₂ + df₁₁⋅w₁₂ + df₂₁⋅w₂₂⎥\n",
       "⎢                                                              ⎥\n",
       "⎣df₀₀⋅w₀₃ + df₁₀⋅w₁₃ + df₂₀⋅w₂₃  df₀₁⋅w₀₃ + df₁₁⋅w₁₃ + df₂₁⋅w₂₃⎦"
      ]
     },
     "execution_count": 90,
     "metadata": {},
     "output_type": "execute_result"
    }
   ],
   "source": [
    "dX"
   ]
  },
  {
   "cell_type": "code",
   "execution_count": 107,
   "metadata": {
    "collapsed": false
   },
   "outputs": [
    {
     "data": {
      "text/latex": [
       "$$\\left[\\begin{matrix}df_{00} x_{00} + df_{01} x_{01} & df_{00} x_{10} + df_{01} x_{11} & df_{00} x_{20} + df_{01} x_{21} & df_{00} x_{30} + df_{01} x_{31}\\\\df_{10} x_{00} + df_{11} x_{01} & df_{10} x_{10} + df_{11} x_{11} & df_{10} x_{20} + df_{11} x_{21} & df_{10} x_{30} + df_{11} x_{31}\\\\df_{20} x_{00} + df_{21} x_{01} & df_{20} x_{10} + df_{21} x_{11} & df_{20} x_{20} + df_{21} x_{21} & df_{20} x_{30} + df_{21} x_{31}\\end{matrix}\\right]$$"
      ],
      "text/plain": [
       "⎡df₀₀⋅x₀₀ + df₀₁⋅x₀₁  df₀₀⋅x₁₀ + df₀₁⋅x₁₁  df₀₀⋅x₂₀ + df₀₁⋅x₂₁  df₀₀⋅x₃₀ + df₀\n",
       "⎢                                                                             \n",
       "⎢df₁₀⋅x₀₀ + df₁₁⋅x₀₁  df₁₀⋅x₁₀ + df₁₁⋅x₁₁  df₁₀⋅x₂₀ + df₁₁⋅x₂₁  df₁₀⋅x₃₀ + df₁\n",
       "⎢                                                                             \n",
       "⎣df₂₀⋅x₀₀ + df₂₁⋅x₀₁  df₂₀⋅x₁₀ + df₂₁⋅x₁₁  df₂₀⋅x₂₀ + df₂₁⋅x₂₁  df₂₀⋅x₃₀ + df₂\n",
       "\n",
       "₁⋅x₃₁⎤\n",
       "     ⎥\n",
       "₁⋅x₃₁⎥\n",
       "     ⎥\n",
       "₁⋅x₃₁⎦"
      ]
     },
     "execution_count": 107,
     "metadata": {},
     "output_type": "execute_result"
    }
   ],
   "source": [
    "dW"
   ]
  },
  {
   "cell_type": "code",
   "execution_count": 92,
   "metadata": {
    "collapsed": false
   },
   "outputs": [
    {
     "data": {
      "text/latex": [
       "$$\\left[\\begin{matrix}w_{00} x_{00} + w_{01} x_{10} + w_{02} x_{20} + w_{03} x_{30} & w_{00} x_{01} + w_{01} x_{11} + w_{02} x_{21} + w_{03} x_{31}\\\\w_{10} x_{00} + w_{11} x_{10} + w_{12} x_{20} + w_{13} x_{30} & w_{10} x_{01} + w_{11} x_{11} + w_{12} x_{21} + w_{13} x_{31}\\\\w_{20} x_{00} + w_{21} x_{10} + w_{22} x_{20} + w_{23} x_{30} & w_{20} x_{01} + w_{21} x_{11} + w_{22} x_{21} + w_{23} x_{31}\\end{matrix}\\right]$$"
      ],
      "text/plain": [
       "⎡w₀₀⋅x₀₀ + w₀₁⋅x₁₀ + w₀₂⋅x₂₀ + w₀₃⋅x₃₀  w₀₀⋅x₀₁ + w₀₁⋅x₁₁ + w₀₂⋅x₂₁ + w₀₃⋅x₃₁⎤\n",
       "⎢                                                                            ⎥\n",
       "⎢w₁₀⋅x₀₀ + w₁₁⋅x₁₀ + w₁₂⋅x₂₀ + w₁₃⋅x₃₀  w₁₀⋅x₀₁ + w₁₁⋅x₁₁ + w₁₂⋅x₂₁ + w₁₃⋅x₃₁⎥\n",
       "⎢                                                                            ⎥\n",
       "⎣w₂₀⋅x₀₀ + w₂₁⋅x₁₀ + w₂₂⋅x₂₀ + w₂₃⋅x₃₀  w₂₀⋅x₀₁ + w₂₁⋅x₁₁ + w₂₂⋅x₂₁ + w₂₃⋅x₃₁⎦"
      ]
     },
     "execution_count": 92,
     "metadata": {},
     "output_type": "execute_result"
    }
   ],
   "source": [
    "D"
   ]
  },
  {
   "cell_type": "code",
   "execution_count": 101,
   "metadata": {
    "collapsed": false
   },
   "outputs": [],
   "source": [
    "nrow, ncol = X.shape\n",
    "dDdX_symb = Matrix([[Derivative(Dsymb,X[ncol*i+j]) for j in range(ncol)] for i in range(nrow)])\n",
    "dDdX = Matrix([[D.diff(X[ncol*i+j]) for j in range(ncol)] for i in range(nrow)])"
   ]
  },
  {
   "cell_type": "code",
   "execution_count": 104,
   "metadata": {
    "collapsed": true
   },
   "outputs": [],
   "source": [
    "nrow, ncol = W.shape\n",
    "dDdW_symb = Matrix([[Derivative(Dsymb,W[ncol*i+j]) for j in range(ncol)] for i in range(nrow)])\n",
    "dDdW = Matrix([[D.diff(W[ncol*i+j]) for j in range(ncol)] for i in range(nrow)])"
   ]
  },
  {
   "cell_type": "markdown",
   "metadata": {},
   "source": [
    "$L(d_{0,0},d_{0,1},d_{1,0},d_{1,1},...)$"
   ]
  },
  {
   "cell_type": "code",
   "execution_count": 102,
   "metadata": {
    "collapsed": false
   },
   "outputs": [
    {
     "data": {
      "text/latex": [
       "$$\\left[\\begin{matrix}\\left[\\begin{matrix}w_{00} & 0\\\\w_{10} & 0\\\\w_{20} & 0\\end{matrix}\\right] & \\left[\\begin{matrix}0 & w_{00}\\\\0 & w_{10}\\\\0 & w_{20}\\end{matrix}\\right]\\\\\\left[\\begin{matrix}w_{01} & 0\\\\w_{11} & 0\\\\w_{21} & 0\\end{matrix}\\right] & \\left[\\begin{matrix}0 & w_{01}\\\\0 & w_{11}\\\\0 & w_{21}\\end{matrix}\\right]\\\\\\left[\\begin{matrix}w_{02} & 0\\\\w_{12} & 0\\\\w_{22} & 0\\end{matrix}\\right] & \\left[\\begin{matrix}0 & w_{02}\\\\0 & w_{12}\\\\0 & w_{22}\\end{matrix}\\right]\\\\\\left[\\begin{matrix}w_{03} & 0\\\\w_{13} & 0\\\\w_{23} & 0\\end{matrix}\\right] & \\left[\\begin{matrix}0 & w_{03}\\\\0 & w_{13}\\\\0 & w_{23}\\end{matrix}\\right]\\end{matrix}\\right]$$"
      ],
      "text/plain": [
       "⎡⎡w₀₀  0⎤  ⎡0  w₀₀⎤⎤\n",
       "⎢⎢      ⎥  ⎢      ⎥⎥\n",
       "⎢⎢w₁₀  0⎥  ⎢0  w₁₀⎥⎥\n",
       "⎢⎢      ⎥  ⎢      ⎥⎥\n",
       "⎢⎣w₂₀  0⎦  ⎣0  w₂₀⎦⎥\n",
       "⎢                  ⎥\n",
       "⎢⎡w₀₁  0⎤  ⎡0  w₀₁⎤⎥\n",
       "⎢⎢      ⎥  ⎢      ⎥⎥\n",
       "⎢⎢w₁₁  0⎥  ⎢0  w₁₁⎥⎥\n",
       "⎢⎢      ⎥  ⎢      ⎥⎥\n",
       "⎢⎣w₂₁  0⎦  ⎣0  w₂₁⎦⎥\n",
       "⎢                  ⎥\n",
       "⎢⎡w₀₂  0⎤  ⎡0  w₀₂⎤⎥\n",
       "⎢⎢      ⎥  ⎢      ⎥⎥\n",
       "⎢⎢w₁₂  0⎥  ⎢0  w₁₂⎥⎥\n",
       "⎢⎢      ⎥  ⎢      ⎥⎥\n",
       "⎢⎣w₂₂  0⎦  ⎣0  w₂₂⎦⎥\n",
       "⎢                  ⎥\n",
       "⎢⎡w₀₃  0⎤  ⎡0  w₀₃⎤⎥\n",
       "⎢⎢      ⎥  ⎢      ⎥⎥\n",
       "⎢⎢w₁₃  0⎥  ⎢0  w₁₃⎥⎥\n",
       "⎢⎢      ⎥  ⎢      ⎥⎥\n",
       "⎣⎣w₂₃  0⎦  ⎣0  w₂₃⎦⎦"
      ]
     },
     "execution_count": 102,
     "metadata": {},
     "output_type": "execute_result"
    }
   ],
   "source": [
    "dDdX"
   ]
  },
  {
   "cell_type": "code",
   "execution_count": 103,
   "metadata": {
    "collapsed": false
   },
   "outputs": [
    {
     "data": {
      "text/latex": [
       "$$\\left[\\begin{matrix}\\frac{\\partial}{\\partial x_{00}} \\left[\\begin{matrix}d_{00} & d_{01}\\\\d_{10} & d_{11}\\\\d_{20} & d_{21}\\end{matrix}\\right] & \\frac{\\partial}{\\partial x_{01}} \\left[\\begin{matrix}d_{00} & d_{01}\\\\d_{10} & d_{11}\\\\d_{20} & d_{21}\\end{matrix}\\right]\\\\\\frac{\\partial}{\\partial x_{10}} \\left[\\begin{matrix}d_{00} & d_{01}\\\\d_{10} & d_{11}\\\\d_{20} & d_{21}\\end{matrix}\\right] & \\frac{\\partial}{\\partial x_{11}} \\left[\\begin{matrix}d_{00} & d_{01}\\\\d_{10} & d_{11}\\\\d_{20} & d_{21}\\end{matrix}\\right]\\\\\\frac{\\partial}{\\partial x_{20}} \\left[\\begin{matrix}d_{00} & d_{01}\\\\d_{10} & d_{11}\\\\d_{20} & d_{21}\\end{matrix}\\right] & \\frac{\\partial}{\\partial x_{21}} \\left[\\begin{matrix}d_{00} & d_{01}\\\\d_{10} & d_{11}\\\\d_{20} & d_{21}\\end{matrix}\\right]\\\\\\frac{\\partial}{\\partial x_{30}} \\left[\\begin{matrix}d_{00} & d_{01}\\\\d_{10} & d_{11}\\\\d_{20} & d_{21}\\end{matrix}\\right] & \\frac{\\partial}{\\partial x_{31}} \\left[\\begin{matrix}d_{00} & d_{01}\\\\d_{10} & d_{11}\\\\d_{20} & d_{21}\\end{matrix}\\right]\\end{matrix}\\right]$$"
      ],
      "text/plain": [
       "⎡ ∂                 ∂              ⎤\n",
       "⎢────⎛⎡d₀₀  d₀₁⎤⎞  ────⎛⎡d₀₀  d₀₁⎤⎞⎥\n",
       "⎢∂x₀₀⎜⎢        ⎥⎟  ∂x₀₁⎜⎢        ⎥⎟⎥\n",
       "⎢    ⎜⎢d₁₀  d₁₁⎥⎟      ⎜⎢d₁₀  d₁₁⎥⎟⎥\n",
       "⎢    ⎜⎢        ⎥⎟      ⎜⎢        ⎥⎟⎥\n",
       "⎢    ⎝⎣d₂₀  d₂₁⎦⎠      ⎝⎣d₂₀  d₂₁⎦⎠⎥\n",
       "⎢                                  ⎥\n",
       "⎢ ∂                 ∂              ⎥\n",
       "⎢────⎛⎡d₀₀  d₀₁⎤⎞  ────⎛⎡d₀₀  d₀₁⎤⎞⎥\n",
       "⎢∂x₁₀⎜⎢        ⎥⎟  ∂x₁₁⎜⎢        ⎥⎟⎥\n",
       "⎢    ⎜⎢d₁₀  d₁₁⎥⎟      ⎜⎢d₁₀  d₁₁⎥⎟⎥\n",
       "⎢    ⎜⎢        ⎥⎟      ⎜⎢        ⎥⎟⎥\n",
       "⎢    ⎝⎣d₂₀  d₂₁⎦⎠      ⎝⎣d₂₀  d₂₁⎦⎠⎥\n",
       "⎢                                  ⎥\n",
       "⎢ ∂                 ∂              ⎥\n",
       "⎢────⎛⎡d₀₀  d₀₁⎤⎞  ────⎛⎡d₀₀  d₀₁⎤⎞⎥\n",
       "⎢∂x₂₀⎜⎢        ⎥⎟  ∂x₂₁⎜⎢        ⎥⎟⎥\n",
       "⎢    ⎜⎢d₁₀  d₁₁⎥⎟      ⎜⎢d₁₀  d₁₁⎥⎟⎥\n",
       "⎢    ⎜⎢        ⎥⎟      ⎜⎢        ⎥⎟⎥\n",
       "⎢    ⎝⎣d₂₀  d₂₁⎦⎠      ⎝⎣d₂₀  d₂₁⎦⎠⎥\n",
       "⎢                                  ⎥\n",
       "⎢ ∂                 ∂              ⎥\n",
       "⎢────⎛⎡d₀₀  d₀₁⎤⎞  ────⎛⎡d₀₀  d₀₁⎤⎞⎥\n",
       "⎢∂x₃₀⎜⎢        ⎥⎟  ∂x₃₁⎜⎢        ⎥⎟⎥\n",
       "⎢    ⎜⎢d₁₀  d₁₁⎥⎟      ⎜⎢d₁₀  d₁₁⎥⎟⎥\n",
       "⎢    ⎜⎢        ⎥⎟      ⎜⎢        ⎥⎟⎥\n",
       "⎣    ⎝⎣d₂₀  d₂₁⎦⎠      ⎝⎣d₂₀  d₂₁⎦⎠⎦"
      ]
     },
     "execution_count": 103,
     "metadata": {},
     "output_type": "execute_result"
    }
   ],
   "source": [
    "dDdX_symb"
   ]
  },
  {
   "cell_type": "code",
   "execution_count": 105,
   "metadata": {
    "collapsed": false
   },
   "outputs": [
    {
     "data": {
      "text/latex": [
       "$$\\left[\\begin{matrix}\\left[\\begin{matrix}x_{00} & x_{01}\\\\0 & 0\\\\0 & 0\\end{matrix}\\right] & \\left[\\begin{matrix}x_{10} & x_{11}\\\\0 & 0\\\\0 & 0\\end{matrix}\\right] & \\left[\\begin{matrix}x_{20} & x_{21}\\\\0 & 0\\\\0 & 0\\end{matrix}\\right] & \\left[\\begin{matrix}x_{30} & x_{31}\\\\0 & 0\\\\0 & 0\\end{matrix}\\right]\\\\\\left[\\begin{matrix}0 & 0\\\\x_{00} & x_{01}\\\\0 & 0\\end{matrix}\\right] & \\left[\\begin{matrix}0 & 0\\\\x_{10} & x_{11}\\\\0 & 0\\end{matrix}\\right] & \\left[\\begin{matrix}0 & 0\\\\x_{20} & x_{21}\\\\0 & 0\\end{matrix}\\right] & \\left[\\begin{matrix}0 & 0\\\\x_{30} & x_{31}\\\\0 & 0\\end{matrix}\\right]\\\\\\left[\\begin{matrix}0 & 0\\\\0 & 0\\\\x_{00} & x_{01}\\end{matrix}\\right] & \\left[\\begin{matrix}0 & 0\\\\0 & 0\\\\x_{10} & x_{11}\\end{matrix}\\right] & \\left[\\begin{matrix}0 & 0\\\\0 & 0\\\\x_{20} & x_{21}\\end{matrix}\\right] & \\left[\\begin{matrix}0 & 0\\\\0 & 0\\\\x_{30} & x_{31}\\end{matrix}\\right]\\end{matrix}\\right]$$"
      ],
      "text/plain": [
       "⎡⎡x₀₀  x₀₁⎤  ⎡x₁₀  x₁₁⎤  ⎡x₂₀  x₂₁⎤  ⎡x₃₀  x₃₁⎤⎤\n",
       "⎢⎢        ⎥  ⎢        ⎥  ⎢        ⎥  ⎢        ⎥⎥\n",
       "⎢⎢ 0    0 ⎥  ⎢ 0    0 ⎥  ⎢ 0    0 ⎥  ⎢ 0    0 ⎥⎥\n",
       "⎢⎢        ⎥  ⎢        ⎥  ⎢        ⎥  ⎢        ⎥⎥\n",
       "⎢⎣ 0    0 ⎦  ⎣ 0    0 ⎦  ⎣ 0    0 ⎦  ⎣ 0    0 ⎦⎥\n",
       "⎢                                              ⎥\n",
       "⎢⎡ 0    0 ⎤  ⎡ 0    0 ⎤  ⎡ 0    0 ⎤  ⎡ 0    0 ⎤⎥\n",
       "⎢⎢        ⎥  ⎢        ⎥  ⎢        ⎥  ⎢        ⎥⎥\n",
       "⎢⎢x₀₀  x₀₁⎥  ⎢x₁₀  x₁₁⎥  ⎢x₂₀  x₂₁⎥  ⎢x₃₀  x₃₁⎥⎥\n",
       "⎢⎢        ⎥  ⎢        ⎥  ⎢        ⎥  ⎢        ⎥⎥\n",
       "⎢⎣ 0    0 ⎦  ⎣ 0    0 ⎦  ⎣ 0    0 ⎦  ⎣ 0    0 ⎦⎥\n",
       "⎢                                              ⎥\n",
       "⎢⎡ 0    0 ⎤  ⎡ 0    0 ⎤  ⎡ 0    0 ⎤  ⎡ 0    0 ⎤⎥\n",
       "⎢⎢        ⎥  ⎢        ⎥  ⎢        ⎥  ⎢        ⎥⎥\n",
       "⎢⎢ 0    0 ⎥  ⎢ 0    0 ⎥  ⎢ 0    0 ⎥  ⎢ 0    0 ⎥⎥\n",
       "⎢⎢        ⎥  ⎢        ⎥  ⎢        ⎥  ⎢        ⎥⎥\n",
       "⎣⎣x₀₀  x₀₁⎦  ⎣x₁₀  x₁₁⎦  ⎣x₂₀  x₂₁⎦  ⎣x₃₀  x₃₁⎦⎦"
      ]
     },
     "execution_count": 105,
     "metadata": {},
     "output_type": "execute_result"
    }
   ],
   "source": [
    "dDdW"
   ]
  },
  {
   "cell_type": "code",
   "execution_count": 106,
   "metadata": {
    "collapsed": false
   },
   "outputs": [
    {
     "data": {
      "text/latex": [
       "$$\\left[\\begin{matrix}\\frac{\\partial}{\\partial w_{00}} \\left[\\begin{matrix}d_{00} & d_{01}\\\\d_{10} & d_{11}\\\\d_{20} & d_{21}\\end{matrix}\\right] & \\frac{\\partial}{\\partial w_{01}} \\left[\\begin{matrix}d_{00} & d_{01}\\\\d_{10} & d_{11}\\\\d_{20} & d_{21}\\end{matrix}\\right] & \\frac{\\partial}{\\partial w_{02}} \\left[\\begin{matrix}d_{00} & d_{01}\\\\d_{10} & d_{11}\\\\d_{20} & d_{21}\\end{matrix}\\right] & \\frac{\\partial}{\\partial w_{03}} \\left[\\begin{matrix}d_{00} & d_{01}\\\\d_{10} & d_{11}\\\\d_{20} & d_{21}\\end{matrix}\\right]\\\\\\frac{\\partial}{\\partial w_{10}} \\left[\\begin{matrix}d_{00} & d_{01}\\\\d_{10} & d_{11}\\\\d_{20} & d_{21}\\end{matrix}\\right] & \\frac{\\partial}{\\partial w_{11}} \\left[\\begin{matrix}d_{00} & d_{01}\\\\d_{10} & d_{11}\\\\d_{20} & d_{21}\\end{matrix}\\right] & \\frac{\\partial}{\\partial w_{12}} \\left[\\begin{matrix}d_{00} & d_{01}\\\\d_{10} & d_{11}\\\\d_{20} & d_{21}\\end{matrix}\\right] & \\frac{\\partial}{\\partial w_{13}} \\left[\\begin{matrix}d_{00} & d_{01}\\\\d_{10} & d_{11}\\\\d_{20} & d_{21}\\end{matrix}\\right]\\\\\\frac{\\partial}{\\partial w_{20}} \\left[\\begin{matrix}d_{00} & d_{01}\\\\d_{10} & d_{11}\\\\d_{20} & d_{21}\\end{matrix}\\right] & \\frac{\\partial}{\\partial w_{21}} \\left[\\begin{matrix}d_{00} & d_{01}\\\\d_{10} & d_{11}\\\\d_{20} & d_{21}\\end{matrix}\\right] & \\frac{\\partial}{\\partial w_{22}} \\left[\\begin{matrix}d_{00} & d_{01}\\\\d_{10} & d_{11}\\\\d_{20} & d_{21}\\end{matrix}\\right] & \\frac{\\partial}{\\partial w_{23}} \\left[\\begin{matrix}d_{00} & d_{01}\\\\d_{10} & d_{11}\\\\d_{20} & d_{21}\\end{matrix}\\right]\\end{matrix}\\right]$$"
      ],
      "text/plain": [
       "⎡ ∂                 ∂                 ∂                 ∂              ⎤\n",
       "⎢────⎛⎡d₀₀  d₀₁⎤⎞  ────⎛⎡d₀₀  d₀₁⎤⎞  ────⎛⎡d₀₀  d₀₁⎤⎞  ────⎛⎡d₀₀  d₀₁⎤⎞⎥\n",
       "⎢∂w₀₀⎜⎢        ⎥⎟  ∂w₀₁⎜⎢        ⎥⎟  ∂w₀₂⎜⎢        ⎥⎟  ∂w₀₃⎜⎢        ⎥⎟⎥\n",
       "⎢    ⎜⎢d₁₀  d₁₁⎥⎟      ⎜⎢d₁₀  d₁₁⎥⎟      ⎜⎢d₁₀  d₁₁⎥⎟      ⎜⎢d₁₀  d₁₁⎥⎟⎥\n",
       "⎢    ⎜⎢        ⎥⎟      ⎜⎢        ⎥⎟      ⎜⎢        ⎥⎟      ⎜⎢        ⎥⎟⎥\n",
       "⎢    ⎝⎣d₂₀  d₂₁⎦⎠      ⎝⎣d₂₀  d₂₁⎦⎠      ⎝⎣d₂₀  d₂₁⎦⎠      ⎝⎣d₂₀  d₂₁⎦⎠⎥\n",
       "⎢                                                                      ⎥\n",
       "⎢ ∂                 ∂                 ∂                 ∂              ⎥\n",
       "⎢────⎛⎡d₀₀  d₀₁⎤⎞  ────⎛⎡d₀₀  d₀₁⎤⎞  ────⎛⎡d₀₀  d₀₁⎤⎞  ────⎛⎡d₀₀  d₀₁⎤⎞⎥\n",
       "⎢∂w₁₀⎜⎢        ⎥⎟  ∂w₁₁⎜⎢        ⎥⎟  ∂w₁₂⎜⎢        ⎥⎟  ∂w₁₃⎜⎢        ⎥⎟⎥\n",
       "⎢    ⎜⎢d₁₀  d₁₁⎥⎟      ⎜⎢d₁₀  d₁₁⎥⎟      ⎜⎢d₁₀  d₁₁⎥⎟      ⎜⎢d₁₀  d₁₁⎥⎟⎥\n",
       "⎢    ⎜⎢        ⎥⎟      ⎜⎢        ⎥⎟      ⎜⎢        ⎥⎟      ⎜⎢        ⎥⎟⎥\n",
       "⎢    ⎝⎣d₂₀  d₂₁⎦⎠      ⎝⎣d₂₀  d₂₁⎦⎠      ⎝⎣d₂₀  d₂₁⎦⎠      ⎝⎣d₂₀  d₂₁⎦⎠⎥\n",
       "⎢                                                                      ⎥\n",
       "⎢ ∂                 ∂                 ∂                 ∂              ⎥\n",
       "⎢────⎛⎡d₀₀  d₀₁⎤⎞  ────⎛⎡d₀₀  d₀₁⎤⎞  ────⎛⎡d₀₀  d₀₁⎤⎞  ────⎛⎡d₀₀  d₀₁⎤⎞⎥\n",
       "⎢∂w₂₀⎜⎢        ⎥⎟  ∂w₂₁⎜⎢        ⎥⎟  ∂w₂₂⎜⎢        ⎥⎟  ∂w₂₃⎜⎢        ⎥⎟⎥\n",
       "⎢    ⎜⎢d₁₀  d₁₁⎥⎟      ⎜⎢d₁₀  d₁₁⎥⎟      ⎜⎢d₁₀  d₁₁⎥⎟      ⎜⎢d₁₀  d₁₁⎥⎟⎥\n",
       "⎢    ⎜⎢        ⎥⎟      ⎜⎢        ⎥⎟      ⎜⎢        ⎥⎟      ⎜⎢        ⎥⎟⎥\n",
       "⎣    ⎝⎣d₂₀  d₂₁⎦⎠      ⎝⎣d₂₀  d₂₁⎦⎠      ⎝⎣d₂₀  d₂₁⎦⎠      ⎝⎣d₂₀  d₂₁⎦⎠⎦"
      ]
     },
     "execution_count": 106,
     "metadata": {},
     "output_type": "execute_result"
    }
   ],
   "source": [
    "dDdW_symb"
   ]
  },
  {
   "cell_type": "code",
   "execution_count": 44,
   "metadata": {
    "collapsed": false
   },
   "outputs": [
    {
     "data": {
      "text/latex": [
       "$$\\left ( 4, \\quad 2\\right )$$"
      ],
      "text/plain": [
       "(4, 2)"
      ]
     },
     "execution_count": 44,
     "metadata": {},
     "output_type": "execute_result"
    }
   ],
   "source": []
  },
  {
   "cell_type": "code",
   "execution_count": 18,
   "metadata": {
    "collapsed": false
   },
   "outputs": [
    {
     "data": {
      "text/latex": [
       "$$\\left[\\begin{matrix}w_{00} & 0\\\\w_{10} & 0\\\\w_{20} & 0\\end{matrix}\\right]$$"
      ],
      "text/plain": [
       "⎡w₀₀  0⎤\n",
       "⎢      ⎥\n",
       "⎢w₁₀  0⎥\n",
       "⎢      ⎥\n",
       "⎣w₂₀  0⎦"
      ]
     },
     "execution_count": 18,
     "metadata": {},
     "output_type": "execute_result"
    }
   ],
   "source": [
    "dMdX[0]"
   ]
  },
  {
   "cell_type": "code",
   "execution_count": 20,
   "metadata": {
    "collapsed": false
   },
   "outputs": [
    {
     "data": {
      "text/latex": [
       "$$\\left[\\begin{matrix}w_{00} + w_{10} + w_{20} & w_{02} + w_{12} + w_{22}\\\\w_{00} + w_{10} + w_{20} & w_{02} + w_{12} + w_{22}\\\\w_{01} + w_{11} + w_{21} & w_{03} + w_{13} + w_{23}\\\\w_{01} + w_{11} + w_{21} & w_{03} + w_{13} + w_{23}\\end{matrix}\\right]$$"
      ],
      "text/plain": [
       "⎡w₀₀ + w₁₀ + w₂₀  w₀₂ + w₁₂ + w₂₂⎤\n",
       "⎢                                ⎥\n",
       "⎢w₀₀ + w₁₀ + w₂₀  w₀₂ + w₁₂ + w₂₂⎥\n",
       "⎢                                ⎥\n",
       "⎢w₀₁ + w₁₁ + w₂₁  w₀₃ + w₁₃ + w₂₃⎥\n",
       "⎢                                ⎥\n",
       "⎣w₀₁ + w₁₁ + w₂₁  w₀₃ + w₁₃ + w₂₃⎦"
      ]
     },
     "execution_count": 20,
     "metadata": {},
     "output_type": "execute_result"
    }
   ],
   "source": [
    "Matrix([[sum(i) for i in dMdX[:4]],[sum(i) for i in dMdX[4:]]]).T"
   ]
  },
  {
   "cell_type": "code",
   "execution_count": 65,
   "metadata": {
    "collapsed": false
   },
   "outputs": [
    {
     "data": {
      "text/latex": [
       "$$\\left[\\begin{matrix}d_{00} w_{00} + d_{10} w_{10} + d_{20} w_{20} & 0\\\\d_{01} w_{00} + d_{11} w_{10} + d_{21} w_{20} & 0\\end{matrix}\\right]$$"
      ],
      "text/plain": [
       "⎡d₀₀⋅w₀₀ + d₁₀⋅w₁₀ + d₂₀⋅w₂₀  0⎤\n",
       "⎢                              ⎥\n",
       "⎣d₀₁⋅w₀₀ + d₁₁⋅w₁₀ + d₂₁⋅w₂₀  0⎦"
      ]
     },
     "execution_count": 65,
     "metadata": {},
     "output_type": "execute_result"
    }
   ],
   "source": [
    "dD.T*dMdX[0]"
   ]
  },
  {
   "cell_type": "code",
   "execution_count": 21,
   "metadata": {
    "collapsed": false
   },
   "outputs": [
    {
     "data": {
      "text/latex": [
       "$$\\left ( 3, \\quad 4\\right )$$"
      ],
      "text/plain": [
       "(3, 4)"
      ]
     },
     "execution_count": 21,
     "metadata": {},
     "output_type": "execute_result"
    }
   ],
   "source": [
    "W.shape"
   ]
  },
  {
   "cell_type": "code",
   "execution_count": 70,
   "metadata": {
    "collapsed": false
   },
   "outputs": [
    {
     "data": {
      "text/latex": [
       "$$\\left[\\begin{matrix}d_{00} & d_{01}\\\\d_{10} & d_{11}\\\\d_{20} & d_{21}\\end{matrix}\\right]$$"
      ],
      "text/plain": [
       "⎡d₀₀  d₀₁⎤\n",
       "⎢        ⎥\n",
       "⎢d₁₀  d₁₁⎥\n",
       "⎢        ⎥\n",
       "⎣d₂₀  d₂₁⎦"
      ]
     },
     "execution_count": 70,
     "metadata": {},
     "output_type": "execute_result"
    }
   ],
   "source": [
    "dD"
   ]
  },
  {
   "cell_type": "code",
   "execution_count": 72,
   "metadata": {
    "collapsed": false
   },
   "outputs": [
    {
     "data": {
      "text/latex": [
       "$$\\left[\\begin{matrix}d_{00} w_{00} + d_{10} w_{10} + d_{20} w_{20} & d_{01} w_{00} + d_{11} w_{10} + d_{21} w_{20}\\\\d_{00} w_{01} + d_{10} w_{11} + d_{20} w_{21} & d_{01} w_{01} + d_{11} w_{11} + d_{21} w_{21}\\\\d_{00} w_{02} + d_{10} w_{12} + d_{20} w_{22} & d_{01} w_{02} + d_{11} w_{12} + d_{21} w_{22}\\\\d_{00} w_{03} + d_{10} w_{13} + d_{20} w_{23} & d_{01} w_{03} + d_{11} w_{13} + d_{21} w_{23}\\end{matrix}\\right]$$"
      ],
      "text/plain": [
       "⎡d₀₀⋅w₀₀ + d₁₀⋅w₁₀ + d₂₀⋅w₂₀  d₀₁⋅w₀₀ + d₁₁⋅w₁₀ + d₂₁⋅w₂₀⎤\n",
       "⎢                                                        ⎥\n",
       "⎢d₀₀⋅w₀₁ + d₁₀⋅w₁₁ + d₂₀⋅w₂₁  d₀₁⋅w₀₁ + d₁₁⋅w₁₁ + d₂₁⋅w₂₁⎥\n",
       "⎢                                                        ⎥\n",
       "⎢d₀₀⋅w₀₂ + d₁₀⋅w₁₂ + d₂₀⋅w₂₂  d₀₁⋅w₀₂ + d₁₁⋅w₁₂ + d₂₁⋅w₂₂⎥\n",
       "⎢                                                        ⎥\n",
       "⎣d₀₀⋅w₀₃ + d₁₀⋅w₁₃ + d₂₀⋅w₂₃  d₀₁⋅w₀₃ + d₁₁⋅w₁₃ + d₂₁⋅w₂₃⎦"
      ]
     },
     "execution_count": 72,
     "metadata": {},
     "output_type": "execute_result"
    }
   ],
   "source": [
    "W.T*dD"
   ]
  },
  {
   "cell_type": "code",
   "execution_count": 24,
   "metadata": {
    "collapsed": false
   },
   "outputs": [
    {
     "data": {
      "text/latex": [
       "$$\\frac{\\partial}{\\partial w_{00}} \\left[\\begin{matrix}d_{00} & d_{01}\\\\d_{10} & d_{11}\\\\d_{20} & d_{21}\\end{matrix}\\right]$$"
      ],
      "text/plain": [
       " ∂              \n",
       "────⎛⎡d₀₀  d₀₁⎤⎞\n",
       "∂w₀₀⎜⎢        ⎥⎟\n",
       "    ⎜⎢d₁₀  d₁₁⎥⎟\n",
       "    ⎜⎢        ⎥⎟\n",
       "    ⎝⎣d₂₀  d₂₁⎦⎠"
      ]
     },
     "execution_count": 24,
     "metadata": {},
     "output_type": "execute_result"
    }
   ],
   "source": [
    "Derivative(dD,w00)"
   ]
  },
  {
   "cell_type": "code",
   "execution_count": null,
   "metadata": {
    "collapsed": true
   },
   "outputs": [],
   "source": []
  }
 ],
 "metadata": {
  "kernelspec": {
   "display_name": "Python 2",
   "language": "python",
   "name": "python2"
  },
  "language_info": {
   "codemirror_mode": {
    "name": "ipython",
    "version": 2
   },
   "file_extension": ".py",
   "mimetype": "text/x-python",
   "name": "python",
   "nbconvert_exporter": "python",
   "pygments_lexer": "ipython2",
   "version": "2.7.11"
  }
 },
 "nbformat": 4,
 "nbformat_minor": 0
}
